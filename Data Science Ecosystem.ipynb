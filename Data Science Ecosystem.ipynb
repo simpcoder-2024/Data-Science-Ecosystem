{
 "cells": [
  {
   "cell_type": "markdown",
   "id": "a062aa24-5e50-42e5-af51-e1221963edf2",
   "metadata": {
    "jupyter": {
     "source_hidden": true
    },
    "panel-layout": {
     "height": 60.575,
     "visible": true,
     "width": 100
    }
   },
   "source": [
    "# Data Science Tools and Ecosystem"
   ]
  },
  {
   "cell_type": "markdown",
   "id": "f1e3f28d-f408-42c7-accb-383cf29ceffb",
   "metadata": {
    "jupyter": {
     "source_hidden": true
    },
    "panel-layout": {
     "height": 51.1375,
     "visible": true,
     "width": 100
    }
   },
   "source": [
    "In this notebook, Data Science Tools and Ecosystem are summarised"
   ]
  },
  {
   "cell_type": "markdown",
   "id": "0e0edce9-c942-4d84-be46-f8a7571cbf3f",
   "metadata": {
    "jupyter": {
     "source_hidden": true
    },
    "panel-layout": {
     "height": 148.825,
     "visible": true,
     "width": 100
    }
   },
   "source": [
    "Some of the Popular languages that Data Scientists use are :\n",
    "1. Python\n",
    "2. R\n",
    "3. Julia\n",
    "4. Java\n",
    "5. Scala\n"
   ]
  },
  {
   "cell_type": "markdown",
   "id": "dba9cb44-61f7-498c-8eef-0538c43f83e1",
   "metadata": {
    "panel-layout": {
     "height": 85.4125,
     "visible": true,
     "width": 100
    }
   },
   "source": [
    "** Objectives: **\n",
    "_ List of Data Sciece Languages\n",
    "_List of Libraries"
   ]
  },
  {
   "cell_type": "markdown",
   "id": "d7680360-988e-4d98-9860-10f306c00b47",
   "metadata": {
    "jupyter": {
     "source_hidden": true
    },
    "panel-layout": {
     "height": 148.825,
     "visible": true,
     "width": 100
    }
   },
   "source": [
    "Some of the commonly used libraries by Data Scientists include:\n",
    "1. Pandas\n",
    "2. Matplotlib\n",
    "3. Numpy\n",
    "4. Seaborn\n",
    "5. Tensorflow"
   ]
  },
  {
   "cell_type": "markdown",
   "id": "db6d4ee5-24da-470b-8f15-36e7c206f272",
   "metadata": {
    "jupyter": {
     "source_hidden": true
    },
    "panel-layout": {
     "height": 122.55,
     "visible": true,
     "width": 100
    }
   },
   "source": [
    "| Data Science Tools        |\n",
    "|---------------------------|\n",
    "| Jupyter Notebook          |\n",
    "| RStudio                   |\n",
    "| Apache Zeppelin           |\n"
   ]
  },
  {
   "cell_type": "markdown",
   "id": "bfd145f2-f670-49f0-a6cd-bbf5c041e035",
   "metadata": {
    "jupyter": {
     "source_hidden": true
    },
    "panel-layout": {
     "height": 44.075,
     "visible": true,
     "width": 100
    }
   },
   "source": [
    "### Below are a few examples of evaluating arithmetic expressions in Python"
   ]
  },
  {
   "cell_type": "code",
   "execution_count": 7,
   "id": "ab7b4b16-b5ab-4233-ae11-931083a133ba",
   "metadata": {},
   "outputs": [
    {
     "data": {
      "text/plain": [
       "17"
      ]
     },
     "execution_count": 7,
     "metadata": {},
     "output_type": "execute_result"
    }
   ],
   "source": [
    "(3*4)+5\n",
    "#This is a simple arithmetic expression to mutiply then add integers"
   ]
  },
  {
   "cell_type": "code",
   "execution_count": 11,
   "id": "1c2227b3-a789-429c-972e-0ec2a55c0035",
   "metadata": {
    "panel-layout": {
     "height": 27.1375,
     "visible": true,
     "width": 100
    }
   },
   "outputs": [
    {
     "data": {
      "text/plain": [
       "33.333333333333336"
      ]
     },
     "execution_count": 11,
     "metadata": {},
     "output_type": "execute_result"
    }
   ],
   "source": [
    "# This will convert 200 minutes to hours by dividing by 60\n",
    "200/6"
   ]
  },
  {
   "cell_type": "markdown",
   "id": "a4dc57a9-a5cd-4bc7-bce9-79a11b289a8f",
   "metadata": {
    "panel-layout": {
     "height": 101.537,
     "visible": true,
     "width": 100
    }
   },
   "source": [
    "## Author\n",
    "Name\n",
    "Author"
   ]
  },
  {
   "cell_type": "markdown",
   "id": "6f07d673-436b-4bb6-876d-8bc790333b15",
   "metadata": {},
   "source": [
    "Git-hub: Data Science Ecosystem\n",
    "<https://github.com/simpcoder-2024/Data-Science-Ecosystem>"
   ]
  },
  {
   "cell_type": "code",
   "execution_count": null,
   "id": "0e183fdf-d796-4e8c-a1cc-e8e146b16d90",
   "metadata": {},
   "outputs": [],
   "source": []
  }
 ],
 "metadata": {
  "kernelspec": {
   "display_name": "Python 3 (ipykernel)",
   "language": "python",
   "name": "python3"
  },
  "language_info": {
   "codemirror_mode": {
    "name": "ipython",
    "version": 3
   },
   "file_extension": ".py",
   "mimetype": "text/x-python",
   "name": "python",
   "nbconvert_exporter": "python",
   "pygments_lexer": "ipython3",
   "version": "3.12.4"
  },
  "panel-cell-order": [
   "a062aa24-5e50-42e5-af51-e1221963edf2",
   "f1e3f28d-f408-42c7-accb-383cf29ceffb",
   "0e0edce9-c942-4d84-be46-f8a7571cbf3f",
   "d7680360-988e-4d98-9860-10f306c00b47",
   "db6d4ee5-24da-470b-8f15-36e7c206f272",
   "bfd145f2-f670-49f0-a6cd-bbf5c041e035",
   "1c2227b3-a789-429c-972e-0ec2a55c0035",
   "dba9cb44-61f7-498c-8eef-0538c43f83e1",
   "a4dc57a9-a5cd-4bc7-bce9-79a11b289a8f"
  ]
 },
 "nbformat": 4,
 "nbformat_minor": 5
}
